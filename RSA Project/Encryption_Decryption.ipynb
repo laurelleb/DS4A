{
 "cells": [
  {
   "cell_type": "markdown",
   "metadata": {},
   "source": [
    "# RSA Encryption\n",
    "\n",
    "Encryption allows people around the world to communicate information privately. In this case, RSA encryption involves the use of private and public key pairs. \n",
    "\n",
    "Public keys are used to encrypt messages while private keys decrypt messages. \n",
    "\n",
    "In this hypothetical situation, my friend, Angela, who lives in Russia wants to send my mom a birthday gift. It has to remain a secret to surprise her. My mother has advanced knowledge in cryptography and hacking which requires me to encrypt my correspondence with Angela to prevent the surprise from being spoiled. \n",
    "\n",
    "There is a cryptography library with built-in functions for RSA, but the idea is to encyrpt a message using user-defined functions.\n",
    "\n",
    "My task is to:\n",
    "- Create an RSA key pair\n",
    "- Encrypt using a public key\n",
    "- Decrypt using a private key\n"
   ]
  },
  {
   "cell_type": "markdown",
   "metadata": {},
   "source": [
    "## Creating an RSA Pair\n",
    "\n",
    "The equation, <br>\n",
    "  $n = pq$\n",
    "<br> where `n` is the product of two prime numbers `p` and `q` is the basis for the function, \n",
    "<br>\n",
    "  $\\phi(n) = (p-1)(q-1)$\n",
    "<br>\n",
    "This function forms the first part of the public and private key pair. To form the other part, we need another integer called $e$, where $e$ is a value greater than one but less than $\\phi(n)$.\n",
    "\n",
    "A good way to check if $e$ is a good value is to find if one number is a factor of another number using the greatest common divisor function `gcd()`. A result equal to one means that the numbers are not factors of each other. For this reason, a small $e$ value is ideal."
   ]
  },
  {
   "cell_type": "code",
   "execution_count": 1,
   "metadata": {},
   "outputs": [],
   "source": [
    "# Import libraries\n",
    "import math\n",
    "import random\n"
   ]
  },
  {
   "cell_type": "code",
   "execution_count": 2,
   "metadata": {},
   "outputs": [],
   "source": [
    "# determining if a number is prime\n",
    "def is_prime(num):\n",
    "    if num > 1:\n",
    "        for i in range(2, int(num/2)+1):\n",
    "          # if num is divisible by any number\n",
    "          # between 2 and n/2, it is not prime\n",
    "            if (num % i) == 0:\n",
    "                return False\n",
    "            break\n",
    "        else:\n",
    "            return True\n",
    "    else:\n",
    "        return False"
   ]
  },
  {
   "cell_type": "markdown",
   "metadata": {},
   "source": [
    "### Public and Private Key\n",
    "\n",
    "The public key is two values, $n$ and $e$.\n",
    "\n",
    "While the private key is represented as,\n",
    "<br>\n",
    "\n",
    "$d = (i * \\phi(n) + 1)/e$\n",
    "<br>\n",
    "\n",
    "where $i$ is any integer.\n",
    "It is important that all values remain as integers to prevent computer memory issues. "
   ]
  },
  {
   "cell_type": "code",
   "execution_count": 3,
   "metadata": {},
   "outputs": [],
   "source": [
    "# Generates a key pair q and p and returns n\n",
    "def make_pair(p,q):\n",
    "#     if not (is_prime(q) and is_prime(p)):\n",
    "#         raise ValueError(\"p and q must be prime numbers.\")\n",
    "#     elif p == q:\n",
    "#         raise ValueError(\"p and q cannot be the same value.\")\n",
    "    # finding the n value\n",
    "    n = int(p * q)\n",
    "    #finding phi\n",
    "    phi = (p-1)*(q-1)\n",
    "    \n",
    "    # e should be greater than one but less than phi(n)\n",
    "    #e = int(random.randrange(1, phi))\n",
    "    e = 5\n",
    "    # e and phi(n) must be coprime\n",
    "    #check greatest common divisor\n",
    "    g = math.gcd(phi, e)\n",
    "\n",
    "#     while g != 1:\n",
    "#         e = random.randrange(1, phi)\n",
    "#         g = gcd(phi, e)\n",
    "    \n",
    "    # finding the private key, d\n",
    "    \n",
    "    i = 2\n",
    "    \n",
    "    d = int(i*(phi+1)/e)\n",
    "\n",
    "    return ((e, n),(d, n))"
   ]
  },
  {
   "cell_type": "markdown",
   "metadata": {},
   "source": [
    "## Encryption Using a Public Key\n",
    "\n",
    "For encryption to work, I will need a cipher, `c`. There are two main steps to calculate `c`.\n",
    "\n",
    "1. Assign each letter of the message a number.\n",
    "2. Apply the encoding formula to the resulting sequence of numbers.\n",
    "\n",
    "To calculate `c`, I will use the following formula:\n",
    "\n",
    "<br>\n",
    "$c = translation^e modn$\n"
   ]
  },
  {
   "cell_type": "markdown",
   "metadata": {},
   "source": [
    "### Replacement Dictionary\n",
    "\n",
    "The replacement dictionary for the characters. These will represent the translation values.\n",
    "\n",
    "| Letter | Value | Letter | Value |\n",
    "|--------|-------|--------|-------|\n",
    "| A      | 1     | O      | 15    |\n",
    "| B      | 2     | P      | 16    |\n",
    "| C      | 3     | Q      | 17    |\n",
    "| D      | 4     | R      | 18    |\n",
    "| E      | 5     | S      | 19    |\n",
    "| F      | 6     | T      | 20    |\n",
    "| G      | 7     | U      | 21    |\n",
    "| H      | 8     | V      | 22    |\n",
    "| I      | 9     | W      | 23    |\n",
    "| J      | 10    | X      | 24    |\n",
    "| K      | 11    | Y      | 25    |\n",
    "| L      | 12    | Z      | 26    |\n",
    "| M      | 13    | sapce  | 27    |\n",
    "| N      | 14    |   '    | 28    |"
   ]
  },
  {
   "cell_type": "code",
   "execution_count": 4,
   "metadata": {},
   "outputs": [
    {
     "name": "stdout",
     "output_type": "stream",
     "text": [
      "{'a': 1, 'b': 2, 'c': 3, 'd': 4, 'e': 5, 'f': 6, 'g': 7, 'h': 8, 'i': 9, 'j': 10, 'k': 11, 'l': 12, 'm': 13, 'n': 14, 'o': 15, 'p': 16, 'q': 17, 'r': 18, 's': 19, 't': 20, 'u': 21, 'v': 22, 'w': 23, 'x': 24, 'y': 25, 'z': 26, ' ': 27, \"'\": 28, '.': 29}\n"
     ]
    }
   ],
   "source": [
    "import string\n",
    "\n",
    "char_dict = dict(zip(string.ascii_letters, range(1,27)))\n",
    "\n",
    "char_dict.update({\" \":27}) \n",
    "char_dict.update({\"'\":28})\n",
    "char_dict.update({\".\":29})\n",
    "\n",
    "print(char_dict)"
   ]
  },
  {
   "cell_type": "code",
   "execution_count": 5,
   "metadata": {},
   "outputs": [],
   "source": [
    "# encrypt the message\n",
    "\n",
    "def encrypt(public_key, message):\n",
    "    \"\"\"\n",
    "    Encrypts a message\n",
    "    \n",
    "    Inputs:\n",
    "    e and n = the public key values\n",
    "    msg = the string type message we must encrypt\n",
    "    \n",
    "    Outputs:\n",
    "    enc_msg = the encrypted message in the form of a list of integers\n",
    "    \"\"\"\n",
    "    # empty list of integers\n",
    "    \n",
    "    e, n = public_key\n",
    "\n",
    "    enc_alp = []\n",
    "    for v in char_dict.values():\n",
    "        cipher = (v**e)%n\n",
    "        enc_alp.append(cipher)\n",
    "\n",
    "\n",
    "    enc_msg = []\n",
    "    for l in list(message):\n",
    "        if l in char_dict:\n",
    "            numb = char_dict.get(l)\n",
    "            cipher = (numb**e)%n\n",
    "            enc_msg.append(cipher)\n",
    "            \n",
    "    return enc_msg"
   ]
  },
  {
   "cell_type": "code",
   "execution_count": 6,
   "metadata": {},
   "outputs": [],
   "source": [
    "# public_key, private_key = make_pair(13, 17)\n",
    "# msg = input(\"enter msg: \")\n",
    "# enc = encrypt(public_key, msg)\n",
    "\n",
    "# print(enc)"
   ]
  },
  {
   "cell_type": "markdown",
   "metadata": {},
   "source": [
    "## Decrypting Using a Private Key\n",
    "\n",
    "Finally, to decrypt a cipher `c`, use the formula:\n",
    "\n",
    "<br>\n",
    "$decrypted = c^d modn$\n",
    "\n",
    "<br>\n"
   ]
  },
  {
   "cell_type": "code",
   "execution_count": 7,
   "metadata": {},
   "outputs": [],
   "source": [
    "def get_key(val):\n",
    "    \n",
    "    \"\"\" \n",
    "        Takes an input value and iterates through a dictionary's\n",
    "        keys and values. When the input matches a value in the\n",
    "        dictionary, the function returns the key of a dictionary.\n",
    "    \n",
    "        Inputs:\n",
    "        val = the input value, most likely an iterable\n",
    "        \n",
    "        Outputs:\n",
    "        key = the key values of a dictionary\n",
    "        \n",
    "        \"\"\"\n",
    "    for key, value in char_dict.items():\n",
    "        if val == value:\n",
    "            return key"
   ]
  },
  {
   "cell_type": "code",
   "execution_count": 8,
   "metadata": {},
   "outputs": [],
   "source": [
    "# decrypt the integers back to the message\n",
    "\n",
    "def decrypt(private_key, list_int):\n",
    "\n",
    "    \"\"\" \n",
    "    Takes the private key and decrypts a message,\n",
    "    that is, it takes a list of integers and changes the\n",
    "    message back into string (ascii) characters\n",
    "    \n",
    "    Inputs:\n",
    "    private key values d and n \n",
    "    list_int = list of integers which are an encyrpted message\n",
    "    \n",
    "    Outputs:\n",
    "    dec_msg = the string type message\n",
    "    \"\"\"\n",
    "    d, n = private_key\n",
    "    dec = [] # empty list to hold list of decrypted numbers\n",
    "    for c in list_int:\n",
    "        dec_msg = (c**d)%n\n",
    "        dec.append(dec_msg)\n",
    "    \n",
    "    letters_list = [] # empty list to store letters of decrypted message    \n",
    "    for numb in dec:\n",
    "        if numb in char_dict.values():\n",
    "            letter = get_key(numb)\n",
    "            letters_list.append(letter)\n",
    "        \n",
    "    return ''.join(letters_list) # joins together the list of character strings"
   ]
  },
  {
   "cell_type": "code",
   "execution_count": 9,
   "metadata": {},
   "outputs": [],
   "source": [
    "# dec_test = decrypt(private_key, enc)\n",
    "# print(dec_test)"
   ]
  },
  {
   "cell_type": "markdown",
   "metadata": {},
   "source": [
    "## Encrypting Our Friend's Message\n",
    "\n",
    "Now that all the components of RSA encryption are running, I can prompt the user for input and encrypt the birthday gift message. "
   ]
  },
  {
   "cell_type": "code",
   "execution_count": 10,
   "metadata": {},
   "outputs": [
    {
     "name": "stdout",
     "output_type": "stream",
     "text": [
      "Your public key is pair, (5, 221) Your private key is pair, (77, 221)\n"
     ]
    }
   ],
   "source": [
    "#generating public and private keys\n",
    "p = 13\n",
    "q = 17\n",
    "public_key, private_key = make_pair(p, q)\n",
    "\n",
    "print(\"Your public key is pair,\", public_key, \"Your private key is pair,\", private_key)\n"
   ]
  },
  {
   "cell_type": "code",
   "execution_count": 11,
   "metadata": {
    "scrolled": true
   },
   "outputs": [
    {
     "name": "stdout",
     "output_type": "stream",
     "text": [
      " The e value is:  5 \n",
      " The n value is:  221 \n",
      " The d value is:  77\n"
     ]
    }
   ],
   "source": [
    "# prints e, n, and d values\n",
    "\n",
    "e, n = public_key\n",
    "d, n = private_key\n",
    "\n",
    "print(\" The e value is: \", e, \"\\n\", \"The n value is: \", n, \"\\n\", \"The d value is: \", d)"
   ]
  },
  {
   "cell_type": "code",
   "execution_count": 12,
   "metadata": {},
   "outputs": [
    {
     "name": "stdout",
     "output_type": "stream",
     "text": [
      "Enter a message: Hello There.\n",
      "The encryptd message is:  [60, 31, 207, 207, 19, 40, 141, 60, 31, 18, 31, 139]\n"
     ]
    }
   ],
   "source": [
    "# encrypting message\n",
    "message = input(\"Enter a message: \").lower()\n",
    "\n",
    "encrypted = encrypt(public_key, message)\n",
    "\n",
    "print(\"The encrypted message is: \", encrypted)\n"
   ]
  },
  {
   "cell_type": "code",
   "execution_count": 18,
   "metadata": {},
   "outputs": [
    {
     "name": "stdout",
     "output_type": "stream",
     "text": [
      "The decrypted message is:  hello there.\n"
     ]
    }
   ],
   "source": [
    "# decrypting message\n",
    "\n",
    "decrypted = decrypt(private_key, encrypted)\n",
    "print(\"The decrypted message is: \", decrypted)"
   ]
  },
  {
   "cell_type": "markdown",
   "metadata": {},
   "source": [
    "## Conclusion\n",
    "\n",
    "In the end, the decrypted message remains in lower case. In the future, I will include some edge cases and the ability to encrypt messages with more characters. This exercise covered basic RSA cyrptography and because of that, picking the right p, q, and e values changed how well the message decrypted. \n"
   ]
  },
  {
   "cell_type": "markdown",
   "metadata": {},
   "source": [
    "### Extra Code for thinking through problem"
   ]
  },
  {
   "cell_type": "code",
   "execution_count": 14,
   "metadata": {},
   "outputs": [],
   "source": [
    "# # encrypts a message using replacement dictionary\n",
    "\n",
    "# public_key, private_key = make_pair(13,17)\n",
    "\n",
    "# e, n = public_key\n",
    "# d, n = private_key\n",
    "\n",
    "# enc_alp = []\n",
    "# for v in char_dict.values():\n",
    "#     cipher = (v**e)%n\n",
    "#     enc_alp.append(cipher)\n",
    "\n",
    "\n",
    "# enc_msg = []\n",
    "# msg = input(\"Write a message: \")\n",
    "# for l in list(msg):\n",
    "#     if l in char_dict:\n",
    "#         numb = char_dict.get(l)\n",
    "#         cipher = (numb**e)%n\n",
    "#         enc_msg.append(cipher)\n",
    "\n",
    "# print(enc_msg)"
   ]
  },
  {
   "cell_type": "code",
   "execution_count": 15,
   "metadata": {},
   "outputs": [],
   "source": [
    "# # decrypting a message using replacement dictionary\n",
    "\n",
    "# print(e,d,n)\n",
    "\n",
    "# dec_numb = []\n",
    "# list_of_letters = []\n",
    "# for c in enc_msg:\n",
    "#     dec_msg = (c**d)%n\n",
    "#     dec_numb.append(dec_msg)\n",
    "    \n",
    "# letters_list = []    \n",
    "# for numb in dec_numb:\n",
    "#     if numb in char_dict.values():\n",
    "#         letter = get_key(numb)\n",
    "#         letters_list.append(letter)\n",
    "    \n",
    "# print(letters_list)        \n",
    "\n",
    "# message = ''.join(letters_list)\n",
    "# print(message)         \n"
   ]
  },
  {
   "cell_type": "code",
   "execution_count": 16,
   "metadata": {},
   "outputs": [],
   "source": [
    "# def encrypt(pub_key, msg):\n",
    "#     \"\"\"\n",
    "#     Encrypts a message using ordinals and characters\n",
    "    \n",
    "#     Inputs:\n",
    "#     e and n = the public key values\n",
    "#     msg = the string type message we must encrypt\n",
    "    \n",
    "#     Outputs:\n",
    "#     enc_msg = the encrypted message in the form of a list of integers\n",
    "#     \"\"\"\n",
    "#     # empty list of integers\n",
    "#     e, n = pub_key\n",
    "#     enc_msg = []\n",
    "#     cipher = 0\n",
    "#     for value in msg:\n",
    "#         if value.isupper():\n",
    "#             m =ord(value)-65\n",
    "#             cipher = (m**e)%n\n",
    "#             enc_msg.append(cipher)\n",
    "#         elif value.islower():\n",
    "#             m = ord(value)-97\n",
    "#             cipher = (m**e)%n\n",
    "#             enc_msg.append(cipher)\n",
    "#         elif value.isspace():\n",
    "#             spc=400\n",
    "#             enc_msg.append(spc)\n",
    "            \n",
    "#     return enc_msg"
   ]
  },
  {
   "cell_type": "code",
   "execution_count": 17,
   "metadata": {},
   "outputs": [],
   "source": [
    "# # decrypt the integers back to the message using ordinals and characters\n",
    "\n",
    "# def decrypt(priv_key, list_int):\n",
    "\n",
    "#     \"\"\" \n",
    "#     Takes the private key and decrypts a message,\n",
    "#     that is, it takes a list of integers and changes the\n",
    "#     message back into string (ascii) characters\n",
    "    \n",
    "#     Inputs:\n",
    "#     private key values d and n \n",
    "#     list_int = list of integers which are an encyrpted message\n",
    "    \n",
    "#     Outputs:\n",
    "#     dec_msg = the string type message\n",
    "#     \"\"\"\n",
    "#     d,n = priv_key\n",
    "#     m = 0\n",
    "#     og_msg = [] # will hold the string values in a list during iteration\n",
    "#     for value in list_int:\n",
    "#         m = (value**d)%n\n",
    "#         m+=65\n",
    "#         text = chr(m)\n",
    "#         og_msg.append(text)\n",
    "#     return ''.join(og_msg) # joins together the list of strings"
   ]
  }
 ],
 "metadata": {
  "kernelspec": {
   "display_name": "Python 3",
   "language": "python",
   "name": "python3"
  },
  "language_info": {
   "codemirror_mode": {
    "name": "ipython",
    "version": 3
   },
   "file_extension": ".py",
   "mimetype": "text/x-python",
   "name": "python",
   "nbconvert_exporter": "python",
   "pygments_lexer": "ipython3",
   "version": "3.6.7"
  }
 },
 "nbformat": 4,
 "nbformat_minor": 2
}
